{
  "nbformat": 4,
  "nbformat_minor": 0,
  "metadata": {
    "colab": {
      "provenance": [],
      "authorship_tag": "ABX9TyMiLCSfOpCbBE1tKFyst2N8"
    },
    "kernelspec": {
      "name": "python3",
      "display_name": "Python 3"
    },
    "language_info": {
      "name": "python"
    }
  },
  "cells": [
    {
      "cell_type": "code",
      "execution_count": 1,
      "metadata": {
        "colab": {
          "base_uri": "https://localhost:8080/"
        },
        "id": "cGz70Bwpl7aQ",
        "outputId": "ac8124bc-5e37-4754-fcd6-7b31b8a1a6b6"
      },
      "outputs": [
        {
          "output_type": "stream",
          "name": "stdout",
          "text": [
            "item_id\n",
            "4     156\n",
            "8     155\n",
            "15    154\n",
            "5     152\n",
            "2     145\n",
            "16    144\n",
            "1     143\n",
            "7     140\n",
            "13    138\n",
            "17    135\n",
            "Name: interaction, dtype: int64\n"
          ]
        }
      ],
      "source": [
        "import pandas as pd\n",
        "import numpy as np\n",
        "\n",
        "# Simulação de dados de interação dos usuários com itens\n",
        "data = pd.DataFrame({\n",
        "    'user_id': np.random.randint(1, 100, 1000),\n",
        "    'item_id': np.random.randint(1, 20, 1000),\n",
        "    'interaction': np.random.randint(1, 5, 1000)  # 1-4 scale ratings\n",
        "})\n",
        "\n",
        "# Contagem de interações para identificar popularidade\n",
        "item_popularity = data.groupby('item_id')['interaction'].sum().sort_values(ascending=False)\n",
        "top_items = item_popularity.head(10)  # Top 10 itens populares\n",
        "\n",
        "# Simulação de um feedback do usuário para atualizar recomendações\n",
        "feedback = {\n",
        "    'item_id': 15,\n",
        "    'interaction_increase': 10  # Aumento artificial na contagem de interações\n",
        "}\n",
        "\n",
        "# Atualiza as recomendações com o feedback do usuário\n",
        "if feedback['item_id'] in item_popularity.index:\n",
        "    item_popularity[feedback['item_id']] += feedback['interaction_increase']\n",
        "\n",
        "# Reordenar após feedback\n",
        "item_popularity = item_popularity.sort_values(ascending=False)\n",
        "updated_top_items = item_popularity.head(10)\n",
        "\n",
        "print(updated_top_items)"
      ]
    }
  ]
}