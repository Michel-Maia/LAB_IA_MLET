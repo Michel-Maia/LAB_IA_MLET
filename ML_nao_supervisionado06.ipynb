{
  "nbformat": 4,
  "nbformat_minor": 0,
  "metadata": {
    "colab": {
      "provenance": [],
      "authorship_tag": "ABX9TyMMkgJ8fbgHHTXCGFb3XBop"
    },
    "kernelspec": {
      "name": "python3",
      "display_name": "Python 3"
    },
    "language_info": {
      "name": "python"
    }
  },
  "cells": [
    {
      "cell_type": "code",
      "execution_count": null,
      "metadata": {
        "id": "agWNSBoxqWxx"
      },
      "outputs": [],
      "source": [
        "import numpy as np\n",
        "from sklearn.cluster import KMeans\n",
        "import matplotlib.pyplot as plt\n",
        "\n",
        "# Calcular inércia para diferentes valores de K\n",
        "inertias = []\n",
        "for k in range(1, 10):\n",
        "    kmeans = KMeans(n_clusters=k)\n",
        "    kmeans.fit(data)\n",
        "    inertias.append(kmeans.inertia_)\n",
        "\n",
        "# Plotar o gráfico do Método do Cotovelo\n",
        "plt.plot(range(1, 10), inertias, marker='o')\n",
        "plt.xlabel('Número de Clusters (K)')\n",
        "plt.ylabel('Inércia')\n",
        "plt.title('Método do Cotovelo')\n",
        "plt.show()"
      ]
    }
  ]
}