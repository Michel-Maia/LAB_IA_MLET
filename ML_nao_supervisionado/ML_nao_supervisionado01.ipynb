{
  "nbformat": 4,
  "nbformat_minor": 0,
  "metadata": {
    "colab": {
      "provenance": [],
      "authorship_tag": "ABX9TyPCB78dMTVrbubNSj/4BH4x"
    },
    "kernelspec": {
      "name": "python3",
      "display_name": "Python 3"
    },
    "language_info": {
      "name": "python"
    }
  },
  "cells": [
    {
      "cell_type": "code",
      "execution_count": null,
      "metadata": {
        "id": "pkfYxSO4061M"
      },
      "outputs": [],
      "source": [
        "# Encontrando o centróide mais próximo de uma determinada observação.\n",
        "\n",
        "def get_nearest_centroid(obs):\n",
        "    dists = np.sqrt(((obs - centroids) ** 2).sum(axis=1))\n",
        "    return dists.idxmin()\n",
        "\n",
        "get_nearest_centroid(X_train_scaled.loc[0])\n",
        "\n",
        "# Aplicando a função a todo o conjunto de dados.\n",
        "\n",
        "clusters = X_train_scaled.apply(get_nearest_centroid, axis=1)\n",
        "\n",
        "# Plotando as atribuições dos clusters.\n",
        "\n",
        "ax = X_train_scaled.plot.scatter(x=\"bill_depth_mm\", y=\"flipper_length_mm\",\n",
        "                                 c=clusters, marker=\"x\", alpha=.5)\n",
        "centroids.plot.scatter(x=\"bill_depth_mm\", y=\"flipper_length_mm\",\n",
        "                       c=centroids.index, ax=ax)\n",
        "\n",
        "# Calculando o “tamanho” médio de cada cluster.\n",
        "\n",
        "centroids = X_train_scaled.groupby(clusters).mean()\n",
        "\n",
        "# Vamos plotar os novos centróides.\n",
        "\n",
        "ax = X_train_scaled.plot.scatter(x=\"bill_depth_mm\", y=\"flipper_length_mm\",\n",
        "                                 c=clusters, marker=\"x\", alpha=.5)\n",
        "centroids.plot.scatter(x=\"bill_depth_mm\", y=\"flipper_length_mm\",\n",
        "                       c=centroids.index, ax=ax)\n",
        "\n",
        "centroids\n",
        "\n",
        "# Atribua pontos ao centróide mais próximo.\n",
        "\n",
        "clusters = X_train_scaled.apply(get_nearest_centroid, axis=1)\n",
        "\n",
        "Recalcular os centróides com base nos clusters.\n",
        "\n",
        "centroids = X_train_scaled.groupby(clusters).mean()"
      ]
    }
  ]
}