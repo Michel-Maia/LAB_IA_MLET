{
  "nbformat": 4,
  "nbformat_minor": 0,
  "metadata": {
    "colab": {
      "provenance": [],
      "authorship_tag": "ABX9TyOismTWBy8zgqIpSaMt12xQ"
    },
    "kernelspec": {
      "name": "python3",
      "display_name": "Python 3"
    },
    "language_info": {
      "name": "python"
    }
  },
  "cells": [
    {
      "cell_type": "markdown",
      "source": [
        "# Aula 4 - Regras de Associação com o Algoritmo Apriori\n",
        "\n",
        "\n",
        "**Demo 6 - Algoritmo Apriori - Minerando a Escolha de Filmes**\n",
        "Como visto em aula, o algoritmo Apriori é baseado na noção de Regras de Associação. Tais regras são usadas, principalmente, para a correta identificação de relações subjacentes entre diferentes itens. Nesta demo trabalhamos com um exemplo de uma plataforma de filmes, na qual os clientes têm por opção o aluguel e (ou) compra de filmes.\n",
        "\n",
        "Assim temos então uma premissa: geralmente vai existir um padrão no que os clientes compram; por exemplo, o tema Super-herói junto a filmes da categoria Crianças. Pensem então que, num caso de uso real, maior lucro poderia ser gerado a medida que forem melhor identificadas as relações entre os diferentes filmes. Ou seja, se os filmes A e B são frequentemente comprados juntos, esse padrão pode ser explorado para se aumentar o lucro.\n",
        "\n",
        "Assim, a partir do padrão encontrado, as pessoas que compram ou alugam um desses dois filmes em particular podem ser levadas a alugar ou comprar o outro, por meio de campanhas ou sugestões na plataforma. Hoje epecialmente, estamos cada vez mais familiarizados com esses mecanismos de recomendação, principalmente na Netflix e Amazon, para citar os mais importantes.\n",
        "\n",
        "# Teoria do Algoritmo Apriori\n",
        "\n",
        "Existem três componentes principais do algoritmo Apriori:\n",
        "\n",
        "\n",
        "1.   Suporte (support)\n",
        "2.   Confiança (confidence)\n",
        "3.   Lift\n",
        "\n",
        "Vamos analisar cada componente. Antes de começarmos, precisamos verificar qual a janela de tempo que faz sentido de acordo com nosso regra de negócios. Então, em nosso exemplo, vão ser usados todos os filmes comprados ou alugados por clientes individuais em um mês ou um ano.\n",
        "\n",
        "\n",
        "**Support**\n",
        "\n",
        "O suporte, para nosso caso de uso, refere-se então à popularidade de um filme e é calculado de acordo com o número de vezes que um determinado filme é assistido, dividido pelo número total de transações.\n",
        "\n",
        "Por exemplo, se em 100 transações, 25 transações contiverem o filme \"Blade Runner\", o suporte para pode ser calculado como:\n",
        "\n",
        "Suporte (\"Blade Runner\") = (Transações que contêm \"Blade Runner\") / (Total de transações)\n",
        "\n",
        "Suporte (\"Blade Runner\") = 25/100 = 25%\n",
        "\n",
        "**Confidence**\n",
        "\n",
        "Confiança refere-se à probabilidade de o filme \"Blade Runner\" ser comprado ou alugado se o filme \"Eu Robô\" for comprado ou alugado. Pode ser calculado ao se encontrar o número de transações em que \"Blade Runner\" e \"Eu Robô\" foram comprados juntos, dividido pelo número total de transações em que \"Eu Robô\" é comprado ou alugado.\n",
        "\n",
        "Confiança (\"Eu Robô\" → \"Blade Runner\") = (Transações contendo ambos (\"Eu Robô\" e \"Blade Runner\")) / (Transações contendo \"Eu Robô\")\n",
        "\n",
        "Se tivéssemos 10 transações em que os clientes assistiram \"Eu Robô\" e \"Blade Runner\", enquanto em 20 transações, \"Eu Robô\" é comprado ou alugado. Então podemos encontrar as chances de que \"Blade Runner\" seja comprado/alugado quando \"Eu Robô\" é comprado.\n",
        "\n",
        "Confiança (\"Eu Robô\" → \"Blade Runner\") = 20/20 = 50%\n",
        "\n",
        "**Lift**\n",
        "\n",
        "Em nosso caso, quando falamos de lift, estamos falando do aumento na venda de um determinado item quando algum outro também é vendido junto a este.\n",
        "\n",
        "Por exemplo, o Lift (\"Eu Robô\" -> \"Blade Runner\") refere-se ao aumento na proporção da venda/aluguel do filme \"Blade Runner\" quando \"Eu Robô\" é vendido. Assim, o Lift pode ser calculado dividindo-se Confiança (\"Eu Robô\" -> \"Blade Runner\") dividido pelo Suporte (\"Blade Runner\").\n",
        "\n",
        "Matematicamente, temos a seguinte representação:\n",
        "\n",
        "Lift (\"Eu Robô\" → \"Blade Runner\") = (Confiança (\"Eu Robô\" → \"Blade Runner\")) / (Suporte (\"Blade Runner\")) Pode ser calculado como:\n",
        "\n",
        "Podemos ter, por exemplo:\n",
        "\n",
        "Lift (\"Eu Robô\" → \"Blade Runner\") = 50% / 25% = 2\n",
        "\n",
        "Então, basicamente, o Lift nos diz que a probabilidade de compra/aluguel dos filmes \"Eu Robô\" e \"Blade Runer\" juntos é 2 vezes maior do que a probabilidade de compra/aluguel apenas do filme \"Blade Runner\".\n",
        "\n",
        "Lembrete: Um aumento de 1 significa que não há associação entre produtos. Um valor de Lift superior a 1 significa que os produtos têm maior probabilidade de serem comprados juntos. Por fim, Lift inferior a 1 refere-se ao caso em que é improvável que dois produtos sejam comprados juntos.\n",
        "\n",
        "**Etapas no Algoritmo Apriori**\n",
        "\n",
        "Para grandes conjuntos de dados, podem haver centenas de itens em centenas de milhares de transações. O algoritmo Apriori tenta extrair regras para cada combinação possível de itens. Por exemplo, o aumento pode ser calculado para o item 1 e item 2, item 1 e item 3, item 1 e item 4 e, em seguida, item 2 e item 3, item 2 e item 4 e, em seguida, combinações de itens, por exemplo. item 1, item 2 e item 3; Da mesma forma, item 1, item2 e item 4, e assim por diante.\n",
        "\n",
        "Como você já deve ter pensado, esse processo pode ser extremamente lento, principalmente dado ao número de combinações.\n",
        "\n",
        "Para que esse processo seja mais rápido, precisamos executar as seguintes etapas:\n",
        "\n",
        "\n",
        "1.   Define-se um valor mínimo para suporte e confiança.\n",
        "\n",
        "Isso significa que estamos interessados apenas em encontrar regras para os itens que possuem certa existência padrão (por exemplo, suporte) e têm um valor mínimo para co-ocorrência com outros itens (confiança).\n",
        "\n",
        "2.   Extraiem-se todos os subconjuntos com maior valor de suporte que o limite mínimo.\n",
        "3.   Selecionam-se então todas as regras dos subconjuntos com valor de confiança maior que o limite mínimo.\n",
        "4.   Ordenam-se as regras por ordem decrescente de valor de Lift.\n",
        "\n",
        "##Implementação de nosso Algoritmo Apriori\n",
        "\n",
        "Agora, como visto em sala, usaremos o algoritmo Apriori para encontrar regras que descrevam associações entre diferentes produtos, dadas 7500 transações ao longo de um mês. O conjunto de dados dos filmes é escolhido aleatoriamente, não sendo dados reais.\n",
        "\n",
        "Tendo em vista o cálculo de suporte, confiança e lift para todas as combinações possíveis de itens usaremos uma biblioteca chamada apyori, a qual é instalada em nosso ambiente do Google Colab por meio do seguinte trecho de código:\n",
        "\n",
        "\n",
        "\n"
      ],
      "metadata": {
        "id": "s_O5O8nXeYjw"
      }
    },
    {
      "cell_type": "code",
      "execution_count": 1,
      "metadata": {
        "colab": {
          "base_uri": "https://localhost:8080/"
        },
        "id": "XRoGgE8MeV1f",
        "outputId": "c8f0a94f-af1c-408d-c7a7-c8af1f3e00b2"
      },
      "outputs": [
        {
          "output_type": "stream",
          "name": "stdout",
          "text": [
            "Collecting apyori\n",
            "  Downloading apyori-1.1.2.tar.gz (8.6 kB)\n",
            "  Preparing metadata (setup.py) ... \u001b[?25l\u001b[?25hdone\n",
            "Building wheels for collected packages: apyori\n",
            "  Building wheel for apyori (setup.py) ... \u001b[?25l\u001b[?25hdone\n",
            "  Created wheel for apyori: filename=apyori-1.1.2-py3-none-any.whl size=5953 sha256=fd8c3727aa98d64c96c49632f193384e070cc4e1afbc74b27d2c268b64b5f9fb\n",
            "  Stored in directory: /root/.cache/pip/wheels/c4/1a/79/20f55c470a50bb3702a8cb7c94d8ada15573538c7f4baebe2d\n",
            "Successfully built apyori\n",
            "Installing collected packages: apyori\n",
            "Successfully installed apyori-1.1.2\n"
          ]
        }
      ],
      "source": [
        "!pip3 install apyori"
      ]
    },
    {
      "cell_type": "markdown",
      "source": [
        "Importando nossas bibliotecas"
      ],
      "metadata": {
        "id": "LH4Vr0u_fm7m"
      }
    },
    {
      "cell_type": "code",
      "source": [
        "import numpy as np\n",
        "import matplotlib.pyplot as plt\n",
        "import pandas as pd\n",
        "from apyori import apriori"
      ],
      "metadata": {
        "id": "zVJAOH4nfnJ1"
      },
      "execution_count": 2,
      "outputs": []
    },
    {
      "cell_type": "markdown",
      "source": [
        "Importando nosso dataset"
      ],
      "metadata": {
        "id": "xFMVTFK3fsn-"
      }
    },
    {
      "cell_type": "code",
      "source": [
        "!curl -O https://raw.githubusercontent.com/ahirtonlopes/Unsupervised_Learning/main/movie_dataset.csv"
      ],
      "metadata": {
        "colab": {
          "base_uri": "https://localhost:8080/"
        },
        "id": "ts-TCDjYfmrn",
        "outputId": "bff0e957-59eb-4609-89e8-e47b5513e9c7"
      },
      "execution_count": 3,
      "outputs": [
        {
          "output_type": "stream",
          "name": "stdout",
          "text": [
            "  % Total    % Received % Xferd  Average Speed   Time    Time     Time  Current\n",
            "                                 Dload  Upload   Total   Spent    Left  Speed\n",
            "100  452k  100  452k    0     0  1485k      0 --:--:-- --:--:-- --:--:-- 1482k\n"
          ]
        }
      ]
    },
    {
      "cell_type": "code",
      "source": [
        "movie_data = pd.read_csv('movie_dataset.csv', header = None)\n",
        "num_records = len(movie_data)\n",
        "print(num_records)"
      ],
      "metadata": {
        "colab": {
          "base_uri": "https://localhost:8080/"
        },
        "id": "aNgv0kuOfxH9",
        "outputId": "21ca16eb-9fcf-471a-edeb-59ac28178bf9"
      },
      "execution_count": 4,
      "outputs": [
        {
          "output_type": "stream",
          "name": "stdout",
          "text": [
            "7501\n"
          ]
        }
      ]
    },
    {
      "cell_type": "markdown",
      "source": [
        "Agora, usaremos o algoritmo Apriori para descobrir quais itens são comumente vendidos juntos, para que o proprietário da loja possa tomar medidas para colocar os itens relacionados juntos ou fazer publicidade de forma conjunto, tendo em vista aumentar o lucro.\n",
        "\n",
        "# Pré-processamento de Dados\n",
        "\n",
        "A biblioteca Apriori que vamos usar exige que nosso conjunto de dados esteja na forma de uma lista de listas, onde todo o conjunto de dados é uma grande lista, e cada transação no conjunto de dados é uma lista interna da grande lista externa.\n",
        "\n",
        "Atualmente, temos dados na forma de um dataframe pandas. Para converter nosso dataframe do pandas em uma lista de listas, execute o seguinte:"
      ],
      "metadata": {
        "id": "7EhgZWklf0zA"
      }
    },
    {
      "cell_type": "code",
      "source": [
        "records = []\n",
        "for i in range(0, num_records):\n",
        "    records.append([str(movie_data.values[i,j]) for j in range(0, 20)])"
      ],
      "metadata": {
        "id": "DdyWJBMofw-2"
      },
      "execution_count": 5,
      "outputs": []
    },
    {
      "cell_type": "markdown",
      "source": [
        "**Aplicando o Apriori**\n",
        "\n",
        "Agora podemos especificar os parâmetros da classe apriori.\n",
        "\n",
        "\n",
        "\n",
        "*   A lista\n",
        "*   min_support\n",
        "*   min_confidence\n",
        "*   min_lift\n",
        "*   min_length (o número mínimo de itens que você deseja em suas regras, geralmente 2)\n",
        "\n",
        "\n",
        "Vamos supor que queremos apenas filmes comprados pelo menos 30 vezes em um mês. O suporte para esses itens pode ser calculado como 30/7500 = 0,004. A confiança mínima para as regras é de 20% ou 0,2. Da mesma forma, especificamos o valor de lift como 3 e, finalmente, min_length é 2, pois queremos pelo menos dois produtos em nossas regras.\n",
        "\n",
        "Lembrete: Como falado em aula, esses valores geralmente são escolhidos de forma arbitrária e precisam ser ajustados empiricamente.\n",
        "\n",
        "Agora, execute a seguinte célula\n",
        "\n"
      ],
      "metadata": {
        "id": "ZJR96Ehqf-t_"
      }
    },
    {
      "cell_type": "code",
      "source": [
        "association_rules = apriori(records, min_support=0.004, min_confidence=0.20, min_lift=3, min_length=2)\n",
        "association_results = list(association_rules)"
      ],
      "metadata": {
        "id": "rXnaU741gSp-"
      },
      "execution_count": 6,
      "outputs": []
    },
    {
      "cell_type": "markdown",
      "source": [
        "Na segunda linha aqui, podem observar que convertemos as regras encontradas pela classe apriori em uma lista, pois é mais fácil visualizar os resultados neste formato.\n",
        "\n",
        "**Visualizando os resultados:**\n",
        "\n",
        "Agora, vamos primeiro encontrar o número total de regras extraídas pela classe apriori, de acordo com o seguinte script:"
      ],
      "metadata": {
        "id": "l30ZtGa2gUne"
      }
    },
    {
      "cell_type": "code",
      "source": [
        "print(len(association_results))"
      ],
      "metadata": {
        "colab": {
          "base_uri": "https://localhost:8080/"
        },
        "id": "uJIG6h_ygYx1",
        "outputId": "fa474512-d29a-4cde-9e50-0ad095843f07"
      },
      "execution_count": 7,
      "outputs": [
        {
          "output_type": "stream",
          "name": "stdout",
          "text": [
            "58\n"
          ]
        }
      ]
    },
    {
      "cell_type": "markdown",
      "source": [
        "O script acima deve retornar 56. Cada item correspondendo a uma regra.\n",
        "\n",
        "Vamos imprimir o primeiro item na lista association_rules para ver a primeira regra gerada:"
      ],
      "metadata": {
        "id": "tZUbtThUgag9"
      }
    },
    {
      "cell_type": "code",
      "source": [
        "print(association_results[0])"
      ],
      "metadata": {
        "colab": {
          "base_uri": "https://localhost:8080/"
        },
        "id": "IG4HNFC3gcM9",
        "outputId": "93d7f0e1-f07f-4dec-b913-2f9e5fc93fb4"
      },
      "execution_count": 8,
      "outputs": [
        {
          "output_type": "stream",
          "name": "stdout",
          "text": [
            "RelationRecord(items=frozenset({'London Has Fallen', 'Captain America'}), support=0.004532728969470737, ordered_statistics=[OrderedStatistic(items_base=frozenset({'London Has Fallen'}), items_add=frozenset({'Captain America'}), confidence=0.29059829059829057, lift=4.84395061728395)])\n"
          ]
        }
      ]
    },
    {
      "cell_type": "markdown",
      "source": [
        "O primeiro item da lista é uma lista em si que contém três itens. O primeiro item da lista mostra os filmes na regra.\n",
        "\n",
        "Por exemplo, desde o primeiro item, podemos ver que \"London Has Fallen\"\" e \"Captain America\" são comumente comprados juntos.\n",
        "\n",
        "O valor do suporte para a primeira regra é 0,0045. Esse número é calculado dividindo-se o número de transações que contêm \"London Has Fallen\", dividido pelo número total de transações.\n",
        "\n",
        "O nível de confiança para a regra é 0,2905 o que mostra que, de todas as transações que contêm \"London Has Fallen\", quase 30% das transações também contêm \"Captain America\".\n",
        "\n",
        "Por fim, o aumento de 4,84 nos diz que o \"Captain America\" é 4,84 vezes mais provável de ser comprado pelos clientes que compram \"London Has Fallen\" em comparação com a probabilidade padrão de venda do \"Captain America\".\n",
        "\n",
        "O script a seguir exibe a regra em um dataframe, de maneira mais legível:"
      ],
      "metadata": {
        "id": "tMjuDYhVgeRV"
      }
    },
    {
      "cell_type": "code",
      "source": [
        "results = []\n",
        "for item in association_results:\n",
        "\n",
        "    pair = item[0] #primeiro indice da lista interna\n",
        "    items = [x for x in pair] #contem item base e adiciona item\n",
        "\n",
        "    value0 = str(items[0])\n",
        "    value1 = str(items[1])\n",
        "\n",
        "    #indice da lista interna\n",
        "    value2 = str(item[1])[:7]\n",
        "\n",
        "    #primeiro indice da lista localizada na posicao 0\n",
        "    #do tercerio indice da lista interna\n",
        "\n",
        "    value3 = str(item[2][0][2])[:7]\n",
        "    value4 = str(item[2][0][3])[:7]\n",
        "\n",
        "    rows = (value0, value1,value2,value3,value4)\n",
        "    results.append(rows)\n",
        "\n",
        "labels = ['Titulo 1','Titulo 2','Support','Confidence','Lift']\n",
        "movie_suggestion = pd.DataFrame.from_records(results, columns = labels)\n",
        "\n",
        "print(movie_suggestion)"
      ],
      "metadata": {
        "colab": {
          "base_uri": "https://localhost:8080/"
        },
        "id": "rMqO21SwggpV",
        "outputId": "36d26f8f-aa6a-48ff-84c4-40ed4b21c0d6"
      },
      "execution_count": 9,
      "outputs": [
        {
          "output_type": "stream",
          "name": "stdout",
          "text": [
            "             Titulo 1               Titulo 2  Support Confidence     Lift\n",
            "0   London Has Fallen        Captain America  0.00453    0.29059  4.84395\n",
            "1       Green Lantern            Red Sparrow  0.00573    0.30069  3.79083\n",
            "2       Green Lantern              Star Wars  0.00586    0.37288  4.70081\n",
            "3       Kung Fu Panda                Jumanji  0.01599    0.32345  3.29199\n",
            "4        Wonder Woman                Jumanji  0.00533    0.37735  3.84065\n",
            "5         Spiderman 3  The Spy Who Dumped Me  0.00799    0.27149  4.12241\n",
            "6        The Revenant              Star Wars  0.00506    0.32203  4.50667\n",
            "7   London Has Fallen                    nan  0.00453    0.29059  4.84395\n",
            "8              Intern           The Revenant  0.00533    0.23255  3.25451\n",
            "9          Tomb Rider        Fantastic Beast  0.00479    0.57142  3.28199\n",
            "10            Get Out          Kung Fu Panda  0.00413    0.20666  4.17845\n",
            "11      Green Lantern                    nan  0.00573    0.30069  3.79083\n",
            "12      Green Lantern                    nan  0.00586    0.37288  4.70081\n",
            "13         Tomb Rider                Jumanji  0.00866    0.31100  3.16532\n",
            "14              Moana            Spiderman 3  0.00479    0.20338  3.08831\n",
            "15              Moana            World War Z  0.00413    0.29523  3.09731\n",
            "16      Ninja Turtles           The Revenant  0.00719    0.30508  3.20061\n",
            "17        Spiderman 3             Tomb Rider  0.00573    0.20574  3.12402\n",
            "18         Tomb Rider           The Revenant  0.00599    0.21531  3.01314\n",
            "19        World War Z             Tomb Rider  0.00666    0.23923  3.49804\n",
            "20         Tomb Rider               Iron Man  0.00533    0.32258  3.28314\n",
            "21      Ninja Turtles          Kung Fu Panda  0.00666    0.39062  3.97568\n",
            "22      Kung Fu Panda             Tomb Rider  0.00639    0.39344  4.00435\n",
            "23      Kung Fu Panda                    nan  0.01599    0.32345  3.29199\n",
            "24              Moana            Spiderman 3  0.00493    0.22424  3.40494\n",
            "25         Tomb Rider           The Revenant  0.00599    0.52325  3.00531\n",
            "26       Wonder Woman                    nan  0.00533    0.37735  3.84065\n",
            "27              Moana            Spiderman 3  0.00719    0.20300  3.08250\n",
            "28      Ninja Turtles            Spiderman 3  0.00519    0.22543  3.42303\n",
            "29          Spotlight            Spiderman 3  0.00506    0.20105  3.05291\n",
            "30        Spiderman 3                    nan  0.00799    0.27149  4.13077\n",
            "31        World War Z            Spiderman 3  0.00439    0.61111  3.50991\n",
            "32       The Revenant                    nan  0.00506    0.32203  4.51509\n",
            "33             Intern           The Revenant  0.00533    0.23255  3.26059\n",
            "34         Tomb Rider                    nan  0.00479    0.57142  3.28199\n",
            "35            Get Out          Kung Fu Panda  0.00413    0.20666  4.17845\n",
            "36      Ninja Turtles             Tomb Rider  0.00439    0.25984  4.35062\n",
            "37         Tomb Rider                    nan  0.00866    0.31100  3.16532\n",
            "38              Moana             Tomb Rider  0.00453    0.28813  3.02280\n",
            "39              Moana            Spiderman 3  0.00479    0.20338  3.09457\n",
            "40              Moana            World War Z  0.00413    0.29523  3.09731\n",
            "41      Ninja Turtles           The Revenant  0.00719    0.30508  3.20061\n",
            "42        Spiderman 3             Tomb Rider  0.00573    0.20574  3.13036\n",
            "43         Tomb Rider           The Revenant  0.00599    0.21531  3.01878\n",
            "44        World War Z             Tomb Rider  0.00666    0.23923  3.49804\n",
            "45         Tomb Rider               Iron Man  0.00533    0.32258  3.28314\n",
            "46      Ninja Turtles          Kung Fu Panda  0.00666    0.39062  3.97568\n",
            "47      Kung Fu Panda             Tomb Rider  0.00639    0.39344  4.00435\n",
            "48              Moana             Tomb Rider  0.00439        0.2  3.34866\n",
            "49              Moana            Spiderman 3  0.00493    0.22424  3.41185\n",
            "50         Tomb Rider           The Revenant  0.00599    0.52325  3.00531\n",
            "51              Moana            Spiderman 3  0.00719    0.20300  3.08876\n",
            "52      Ninja Turtles            Spiderman 3  0.00519    0.22543  3.42997\n",
            "53          Spotlight            Spiderman 3  0.00506    0.20105  3.05910\n",
            "54        World War Z            Spiderman 3  0.00439    0.61111  3.50991\n",
            "55             Intern          Ninja Turtles  0.00439    0.25984  4.35062\n",
            "56             Intern                  Moana  0.00453    0.28813  3.02280\n",
            "57              Moana          Ninja Turtles  0.00439        0.2  3.34866\n"
          ]
        }
      ]
    }
  ]
}