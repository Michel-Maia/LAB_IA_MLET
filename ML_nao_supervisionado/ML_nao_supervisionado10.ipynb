{
  "nbformat": 4,
  "nbformat_minor": 0,
  "metadata": {
    "colab": {
      "provenance": [],
      "authorship_tag": "ABX9TyPvn0FkvWU4IWeFEAI94WDR"
    },
    "kernelspec": {
      "name": "python3",
      "display_name": "Python 3"
    },
    "language_info": {
      "name": "python"
    }
  },
  "cells": [
    {
      "cell_type": "code",
      "execution_count": 1,
      "metadata": {
        "colab": {
          "base_uri": "https://localhost:8080/"
        },
        "id": "GDach7TvzfLE",
        "outputId": "07fc9167-d8b1-4e58-8da6-f0548bc3752e"
      },
      "outputs": [
        {
          "output_type": "stream",
          "name": "stdout",
          "text": [
            "Componente Principal: [-0.70710678 -0.70710678]\n",
            "Variância explicada: 1.0\n",
            "Dados projetados:\n",
            "[[ 2.]\n",
            " [ 1.]\n",
            " [-0.]\n",
            " [-1.]\n",
            " [-2.]]\n"
          ]
        }
      ],
      "source": [
        "import numpy as np\n",
        "from sklearn.preprocessing import StandardScaler\n",
        "from sklearn.decomposition import PCA\n",
        "\n",
        "# Exemplo de dados bidimensionais\n",
        "X = np.array([[1, 2], [2, 3], [3, 4], [4, 5], [5, 6]])\n",
        "\n",
        "# Padronizar os dados\n",
        "X_std = StandardScaler().fit_transform(X)\n",
        "\n",
        "# Aplicar PCA para redução de dimensionalidade para 1 componente principal\n",
        "pca = PCA(n_components=1)\n",
        "X_pca = pca.fit_transform(X_std)\n",
        "\n",
        "# Componente principal (autovetor)\n",
        "principal_component = pca.components_[0]\n",
        "\n",
        "# Variância explicada pelo componente principal\n",
        "explained_variance = pca.explained_variance_ratio_[0]\n",
        "\n",
        "print(\"Componente Principal:\", principal_component)\n",
        "print(\"Variância explicada:\", explained_variance)\n",
        "\n",
        "# Projeção dos dados no novo espaço unidimensional\n",
        "print(\"Dados projetados:\")\n",
        "print(X_pca)"
      ]
    }
  ]
}