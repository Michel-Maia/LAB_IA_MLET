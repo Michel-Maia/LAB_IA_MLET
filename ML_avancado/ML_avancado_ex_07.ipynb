{
  "nbformat": 4,
  "nbformat_minor": 0,
  "metadata": {
    "colab": {
      "provenance": []
    },
    "kernelspec": {
      "name": "python3",
      "display_name": "Python 3"
    },
    "language_info": {
      "name": "python"
    }
  },
  "cells": [
    {
      "cell_type": "code",
      "execution_count": 1,
      "metadata": {
        "colab": {
          "base_uri": "https://localhost:8080/"
        },
        "id": "86qkK1Z3rmEL",
        "outputId": "920c4cf3-85b6-4159-bab3-511676bc8627"
      },
      "outputs": [
        {
          "output_type": "stream",
          "name": "stdout",
          "text": [
            "Scores da validação cruzada:\n",
            "[0.7029154837311256, 0.8057328871752519, 0.8751863699639845, 0.9727943328042411, 0.9007801035080109]\n",
            "Desvios padrão:\n",
            "[0.8005064919733853, 1.0539908019578184, 0.9273080028361886, 1.2565773623847523, 1.0770272650128445]\n",
            "MAE médio: 0.8514818354365229\n",
            "Desvio padrão do MAE: 0.09151379495537142\n"
          ]
        }
      ],
      "source": [
        "import numpy as np\n",
        "import pandas as pd\n",
        "from sklearn.model_selection import KFold\n",
        "from sklearn.linear_model import LinearRegression\n",
        "from sklearn.metrics import mean_absolute_error\n",
        "\n",
        "# Gera dados aleatórios\n",
        "np.random.seed(42)\n",
        "X = np.random.rand(100, 2)\n",
        "y = np.round(X[:, 0] + X[:, 1] + np.random.randn(100))\n",
        "\n",
        "# Cria DataFrame\n",
        "df = pd.DataFrame({'caracteristica1': X[:, 0], 'caracteristica2': X[:, 1], 'classe': y})\n",
        "\n",
        "# Configura validação cruzada com 5 folds\n",
        "kfold = KFold(n_splits=5, shuffle=True, random_state=42)\n",
        "\n",
        "# Inicializa modelo\n",
        "model = LinearRegression()\n",
        "\n",
        "# Armazena scores e desvios padrão\n",
        "scores = []\n",
        "std_devs = []\n",
        "\n",
        "# Itera sobre os folds\n",
        "for train_index, test_index in kfold.split(X):\n",
        "    X_train, X_test = X[train_index], X[test_index]\n",
        "    y_train, y_test = y[train_index], y[test_index]\n",
        "\n",
        "\n",
        "# Treina o modelo no conjunto de treinamento\n",
        "    model.fit(X_train, y_train)\n",
        "\n",
        "    # Faz previsões no conjunto de teste\n",
        "    y_pred = model.predict(X_test)\n",
        "\n",
        "    # Calcula o erro médio absoluto\n",
        "    mae = mean_absolute_error(y_test, y_pred)\n",
        "\n",
        "    # Armazena scores e desvios padrão\n",
        "    scores.append(mae)\n",
        "    std_devs.append(np.std(y_pred - y_test))\n",
        "\n",
        "\n",
        "# Mostrando os resultados\n",
        "print(\"Scores da validação cruzada:\")\n",
        "print(scores)\n",
        "\n",
        "print(\"Desvios padrão:\")\n",
        "print(std_devs)\n",
        "\n",
        "print(\"MAE médio:\", np.mean(scores))\n",
        "print(\"Desvio padrão do MAE:\", np.std(scores))"
      ]
    }
  ]
}