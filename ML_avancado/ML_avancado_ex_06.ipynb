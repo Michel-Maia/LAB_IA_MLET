{
  "nbformat": 4,
  "nbformat_minor": 0,
  "metadata": {
    "colab": {
      "provenance": []
    },
    "kernelspec": {
      "name": "python3",
      "display_name": "Python 3"
    },
    "language_info": {
      "name": "python"
    }
  },
  "cells": [
    {
      "cell_type": "code",
      "execution_count": null,
      "metadata": {
        "id": "UgXC9wxEUVlF"
      },
      "outputs": [],
      "source": [
        "import numpy as np\n",
        "import pandas as pd\n",
        "from sklearn.linear_model import SGDRegressor\n",
        "from sklearn.preprocessing import StandardScaler\n",
        "import matplotlib.pyplot as plt\n",
        "\n",
        "# Separar as features (Temperatura) e labels (Vendas_Sorvetes)\n",
        "X = dados[\"Temperatura\"].values.reshape(-1, 1)\n",
        "y = dados[\"Vendas_Sorvete\"].values\n",
        "\n",
        "\n",
        "\n",
        "# Normalizar as features (Temperatura)\n",
        "scaler = StandardScaler()\n",
        "X_norm = scaler.fit_transform(X)\n",
        "\n",
        "# Treinar o modelo com SGDRegressor e hiperparâmetros ajustados\n",
        "sgd_reg = SGDRegressor(max_iter=1000, penalty='l2', eta0=0.01)\n",
        "sgd_reg.fit(X_norm, y.ravel())\n",
        "\n",
        "# Analisar os resultados\n",
        "print(\"Inclinação (m):\", sgd_reg.coef_[0])\n",
        "print(\"Intercepto (b):\", sgd_reg.intercept_)\n",
        "\n",
        "# Fazer predições para novos valores de temperatura\n",
        "nova_temperatura = 22.5\n",
        "\n",
        "# Reshape nova_temperatura em um 2D array com linha e coluna\n",
        "nova_temperatura = np.array([nova_temperatura]).reshape(1, 1)\n",
        "\n",
        "# Aplicar o scaler em temperatura\n",
        "nova_temperatura_scaled = scaler.transform(nova_temperatura)\n",
        "\n",
        "# Nova predição utilizando o  scaled nova_temperatura\n",
        "predicao = sgd_reg.predict(nova_temperatura_scaled)\n",
        "print(\"A predição de vendas para a temperatura de 22.5 graus é de\", predicao)\n",
        "\n",
        "\n",
        "# Calcular o R² e outras métricas\n",
        "from sklearn.metrics import r2_score, mean_squared_error, mean_absolute_error\n",
        "\n",
        "\n",
        "# Criando a função do MAPE\n",
        "def mean_absolute_percentage_error(y_true, y_pred):\n",
        "    y_true = np.clip(y_true, np.min(y_pred), np.max(y_pred))\n",
        "    return np.mean(np.abs((y_true - y_pred) / y_true)) * 100\n",
        "\n",
        "r2 = r2_score(y, sgd_reg.predict(X_norm))\n",
        "mse = mean_squared_error(y, sgd_reg.predict(X_norm))\n",
        "rmse = np.sqrt(mse)\n",
        "mae = mean_absolute_error(y, sgd_reg.predict(X_norm))\n",
        "mape = mean_absolute_percentage_error(y, sgd_reg.predict(X_norm))\n",
        "\n",
        "\n",
        "print(\"R²:\", r2)\n",
        "print(\"MSE:\", mse)\n",
        "print(\"RMSE:\", rmse)\n",
        "print(\"MAE:\", mae)\n",
        "print(\"MAPE:\", mape)\n",
        "\n",
        "# Visualizar a relação entre features e labels com reta de regressão\n",
        "plt.scatter(X, y, label=\"Dados Originais\")\n",
        "plt.plot(X, sgd_reg.predict(X_norm), color=\"red\", label=\"Reta de Regressão\")\n",
        "plt.xlabel(\"Temperatura\")\n",
        "plt.ylabel(\"Vendas de Sorvete\")\n",
        "plt.title(\"Modelo de Regressão Linear\")\n",
        "plt.legend()\n",
        "plt.show()"
      ]
    }
  ]
}