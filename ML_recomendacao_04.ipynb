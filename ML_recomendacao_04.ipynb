{
  "nbformat": 4,
  "nbformat_minor": 0,
  "metadata": {
    "colab": {
      "provenance": [],
      "authorship_tag": "ABX9TyP/jQB5PH394B0JULlpZd+S"
    },
    "kernelspec": {
      "name": "python3",
      "display_name": "Python 3"
    },
    "language_info": {
      "name": "python"
    }
  },
  "cells": [
    {
      "cell_type": "code",
      "execution_count": 1,
      "metadata": {
        "colab": {
          "base_uri": "https://localhost:8080/"
        },
        "id": "tsurKnOVAFo7",
        "outputId": "0c1286c6-f9e9-4045-9a9f-c07e134d3ff3"
      },
      "outputs": [
        {
          "output_type": "stream",
          "name": "stdout",
          "text": [
            "Item Recomendado: 5\n"
          ]
        }
      ],
      "source": [
        "import numpy as np\n",
        "import random\n",
        "\n",
        "# Definindo um simples conjunto de recomendações\n",
        "recomendacoes = [1, 2, 3, 4, 5]  # Representa ids de itens recomendáveis\n",
        "epsilon = 0.1  # 10% de chance de explorar\n",
        "\n",
        "# Escolha entre explorar ou explotar\n",
        "if random.random() < epsilon:\n",
        "    # Explorar: escolher um item aleatório\n",
        "    item_recomendado = random.choice(recomendacoes)\n",
        "else:\n",
        "    # Explotar: escolher o melhor item, assumindo que o item 5 é o melhor\n",
        "    item_recomendado = 5\n",
        "\n",
        "print(\"Item Recomendado:\", item_recomendado)"
      ]
    }
  ]
}