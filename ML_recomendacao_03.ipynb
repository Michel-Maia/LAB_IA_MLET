{
  "nbformat": 4,
  "nbformat_minor": 0,
  "metadata": {
    "colab": {
      "provenance": [],
      "authorship_tag": "ABX9TyOqt9UJ41U9V5/I/84EduTj"
    },
    "kernelspec": {
      "name": "python3",
      "display_name": "Python 3"
    },
    "language_info": {
      "name": "python"
    }
  },
  "cells": [
    {
      "cell_type": "markdown",
      "source": [
        "operações matriciais com Python e Numpy"
      ],
      "metadata": {
        "id": "qbGJ3cCYAPpc"
      }
    },
    {
      "cell_type": "code",
      "execution_count": 1,
      "metadata": {
        "colab": {
          "base_uri": "https://localhost:8080/"
        },
        "id": "drOFpt2JABie",
        "outputId": "51ff3c16-053a-4ac3-df73-47a6942a5868"
      },
      "outputs": [
        {
          "output_type": "stream",
          "name": "stdout",
          "text": [
            "Resultado da Multiplicação de Matrizes:\n",
            " [[ 4  4]\n",
            " [10  8]]\n"
          ]
        }
      ],
      "source": [
        "import numpy as np\n",
        "# Definindo duas matrizes\n",
        "A = np.array([[1, 2], [3, 4]])\n",
        "B = np.array([[2, 0], [1, 2]])\n",
        "# Multiplicando as matrizes\n",
        "C = np.dot(A, B)\n",
        "print(\"Resultado da Multiplicação de Matrizes:\\n\", C)"
      ]
    },
    {
      "cell_type": "markdown",
      "source": [
        "Fatoração de Matrizes Não-Negativas é um método poderoso para decompor uma matrix em componentes que capturam a estrutura dos dados de maneira eiciente e intuitiva"
      ],
      "metadata": {
        "id": "ZXeeHSiLAisb"
      }
    },
    {
      "cell_type": "code",
      "source": [
        "from sklearn.decomposition import NMF\n",
        "# Dados exemplo\n",
        "V = np.array([[1, 2], [3, 4], [5, 6]])\n",
        "model = NMF(n_components=1, init='random', random_state=0)\n",
        "W = model.fit_transform(V)\n",
        "H = model.components_\n",
        "print(\"Matriz W (Base):\", W)\n",
        "print(\"Matriz H (Coeficientes):\", H)"
      ],
      "metadata": {
        "colab": {
          "base_uri": "https://localhost:8080/"
        },
        "id": "R8qUBri9Aeij",
        "outputId": "62225965-3ce1-4295-f45a-8dd1cc9646ca"
      },
      "execution_count": 2,
      "outputs": [
        {
          "output_type": "stream",
          "name": "stdout",
          "text": [
            "Matriz W (Base): [[0.50424333]\n",
            " [1.15119452]\n",
            " [1.79814571]]\n",
            "Matriz H (Coeficientes): [[2.69041988 3.40799721]]\n"
          ]
        }
      ]
    }
  ]
}