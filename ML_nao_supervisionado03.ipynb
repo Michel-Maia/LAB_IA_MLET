{
  "nbformat": 4,
  "nbformat_minor": 0,
  "metadata": {
    "colab": {
      "provenance": [],
      "authorship_tag": "ABX9TyPdnGjbhjbufDD3NL5nqVpp"
    },
    "kernelspec": {
      "name": "python3",
      "display_name": "Python 3"
    },
    "language_info": {
      "name": "python"
    }
  },
  "cells": [
    {
      "cell_type": "code",
      "execution_count": null,
      "metadata": {
        "id": "57PqL20JD9mt"
      },
      "outputs": [],
      "source": [
        "import pandas as pd\n",
        "import numpy as np\n",
        "dataset = pd.read_csv(‘imdb_movie_dataset.csv', encoding='utf-8')\n",
        "dataset.drop(['color','language'], axis= 1, inplace= True)\n",
        "\n",
        "from sklearn.cluster import KMeans\n",
        "\n",
        "# Excluindo os valores ausentes e selecionando apenas a pontuação GOB e IMDB\n",
        "selected_dataset=dataset.loc[\n",
        "(dataset['GOB']>0) & dataset['imdb_score']>0][['imdb_score','GOB']]\n",
        "# Agrupando o conjunto de dados usando o algoritmo K-Means\n",
        "cls = KMeans(n_clusters=2)\n",
        "\n",
        "# Ajustar o modelo ao algoritmo\n",
        "cls.fit(selected_dataset)\n",
        "\n",
        "# Trazendo os centróides e o rótulo de cada grupo\n",
        "centroids=cls.cluster_centers_\n",
        "labels = cls.labels_"
      ]
    }
  ]
}