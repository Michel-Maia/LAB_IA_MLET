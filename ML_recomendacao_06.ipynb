{
  "nbformat": 4,
  "nbformat_minor": 0,
  "metadata": {
    "colab": {
      "provenance": [],
      "authorship_tag": "ABX9TyPhrVgusH6fX7Yw7KTYB9uW"
    },
    "kernelspec": {
      "name": "python3",
      "display_name": "Python 3"
    },
    "language_info": {
      "name": "python"
    }
  },
  "cells": [
    {
      "cell_type": "code",
      "execution_count": 3,
      "metadata": {
        "colab": {
          "base_uri": "https://localhost:8080/"
        },
        "id": "6Itu_vDlWVJJ",
        "outputId": "5f7e2840-c2e6-45ed-ba74-47304c1c1fe1"
      },
      "outputs": [
        {
          "output_type": "stream",
          "name": "stdout",
          "text": [
            "Centroids:\n",
            "[[0.   4.25 4.   2.25]\n",
            " [4.5  1.5  2.25 1.75]]\n",
            "Labels:\n",
            "[1 1 0 0]\n",
            "New Data Labels:\n",
            "[0 1]\n"
          ]
        }
      ],
      "source": [
        "from sklearn.cluster import KMeans\n",
        "import numpy as np\n",
        "\n",
        "# Exemplo de dados de usuários, onde cada linha representa um usuário\n",
        "# e cada coluna representa uma característica de preferência\n",
        "data = np.array([\n",
        "    [5.0, 3.0, 0, 0],\n",
        "    [4.0, 0, 4.5, 3.5],\n",
        "    [0, 5.0, 4.0, 4.5],\n",
        "    [0, 3.5, 4.0, 0]\n",
        "])\n",
        "\n",
        "# Configurando o KMeans com um número desejado de clusters\n",
        "kmeans = KMeans(n_clusters=2, random_state=0)\n",
        "\n",
        "# Ajustando o modelo aos dados\n",
        "kmeans.fit(data)\n",
        "\n",
        "# Saída dos centróides dos clusters e das etiquetas de cada ponto\n",
        "print(\"Centroids:\")\n",
        "print(kmeans.cluster_centers_)\n",
        "print(\"Labels:\")\n",
        "print(kmeans.labels_)\n",
        "\n",
        "# Prever o cluster para um novo conjunto de dados\n",
        "new_data = np.array([\n",
        "    [0, 4.0, 3.0, 3.0],\n",
        "    [5.0, 3.5, 0, 0]\n",
        "])\n",
        "print(\"New Data Labels:\")\n",
        "print(kmeans.predict(new_data))"
      ]
    }
  ]
}