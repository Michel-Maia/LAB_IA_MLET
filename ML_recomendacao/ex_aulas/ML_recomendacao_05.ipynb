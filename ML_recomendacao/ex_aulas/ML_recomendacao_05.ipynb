{
  "nbformat": 4,
  "nbformat_minor": 0,
  "metadata": {
    "colab": {
      "provenance": [],
      "authorship_tag": "ABX9TyOC4UlmPNDElp01btmsvMln"
    },
    "kernelspec": {
      "name": "python3",
      "display_name": "Python 3"
    },
    "language_info": {
      "name": "python"
    }
  },
  "cells": [
    {
      "cell_type": "code",
      "execution_count": null,
      "metadata": {
        "id": "g_lqTUr1Vzyn"
      },
      "outputs": [],
      "source": [
        "#include <vector>\n",
        "#include <cmath>\n",
        "\n",
        "#// Função para calcular a correlação de Pearson entre dois usuários\n",
        "\n",
        "double pearsonCorrelation(const std::vector<double>& ratingsA, const std::vector<double>& ratingsB) {\n",
        "    double sumX = 0, sumY = 0, sumXY = 0, sumX2 = 0, sumY2 = 0;\n",
        "    int n = ratingsA.size();\n",
        "\n",
        "    for (int i = 0; i < n; i++) {\n",
        "        sumX += ratingsA[i];\n",
        "        sumY += ratingsB[i];\n",
        "        sumXY += ratingsA[i] * ratingsB[i];\n",
        "        sumX2 += ratingsA[i] * ratingsA[i];\n",
        "        sumY2 += ratingsB[i] * ratingsB[i];\n",
        "    }\n",
        "\n",
        "    double numerator = n * sumXY - sumX * sumY;\n",
        "    double denominator = sqrt((n * sumX2 - sumX * sumX) * (n * sumY2 - sumY * sumY));\n",
        "    return numerator / denominator;\n",
        "}"
      ]
    },
    {
      "cell_type": "code",
      "source": [
        "#include <iostream>\n",
        "#include <vector>\n",
        "\n",
        "#// Função para imprimir uma matriz de utilidade\n",
        "void printUtilityMatrix(const std::vector<std::vector<double>>& matrix) {\n",
        "    for (const auto& row : matrix) {\n",
        "        for (double val : row) {\n",
        "            std::cout << val << \" \";\n",
        "        }\n",
        "        std::cout << std::endl;\n",
        "    }\n",
        "}\n",
        "\n",
        "int main() {\n",
        "    // Exemplo de matriz de utilidade\n",
        "    std::vector<std::vector<double>> utilityMatrix = {\n",
        "        {4.5, 0, 3.5, 0},\n",
        "        {0, 3.5, 4, 5},\n",
        "        {5, 4.5, 0, 3.5}\n",
        "    };\n",
        "\n",
        "    printUtilityMatrix(utilityMatrix);\n",
        "    return 0;\n",
        "}"
      ],
      "metadata": {
        "id": "LSbtNSa9WGI5"
      },
      "execution_count": null,
      "outputs": []
    }
  ]
}