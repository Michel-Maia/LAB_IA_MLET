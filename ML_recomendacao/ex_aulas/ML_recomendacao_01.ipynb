{
  "nbformat": 4,
  "nbformat_minor": 0,
  "metadata": {
    "colab": {
      "provenance": [],
      "authorship_tag": "ABX9TyMrP0I+rzg4ElH3Hg3n+uIc"
    },
    "kernelspec": {
      "name": "python3",
      "display_name": "Python 3"
    },
    "language_info": {
      "name": "python"
    }
  },
  "cells": [
    {
      "cell_type": "code",
      "execution_count": null,
      "metadata": {
        "id": "xDHuRPVAltZD"
      },
      "outputs": [],
      "source": [
        "# Código para calcular a popularidade dos itens baseado em contagem de avaliações\n",
        "item_counts = data.groupby(\n",
        "'item_id'\n",
        ").size().sort_values(\n",
        "ascending=False\n",
        ")\n",
        "# Comando para extrair as top recomendações\n",
        "top_recommendations = item_counts.head()\n",
        "\n",
        "# Instruções para reclassificar avaliações com feedback do usuário\n",
        "updated_ratings = update_ratings_matrix(data, user_feedback)"
      ]
    }
  ]
}